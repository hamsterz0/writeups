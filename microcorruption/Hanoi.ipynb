{
 "cells": [
  {
   "cell_type": "markdown",
   "id": "b734d7cb-5e01-46ad-9278-ad33f817a55a",
   "metadata": {},
   "source": [
    "# Hanoi"
   ]
  },
  {
   "cell_type": "markdown",
   "id": "09bbfaf5-cdaf-401c-a92e-13640983a3a5",
   "metadata": {},
   "source": [
    "Within the login function, the interesting piece of code here is the:\n",
    "\n",
    "```text\n",
    "455a:  f290 a600 1024 cmp.b\t#0xa6, &0x2410\n",
    "\n",
    "4560:  0720           jnz\t$+0x10 <login+0x50>\n",
    "\n",
    "4562:  3f40 f144      mov\t#0x44f1 \"Access granted.\", r15\n",
    "\n",
    "4566:  b012 de45      call\t#0x45de <puts>\n",
    "\n",
    "456a:  b012 4844      call\t#0x4448 <unlock_door>\n",
    "\n",
    "456e:  3041           ret\n",
    "```\n",
    "\n",
    "So we need to have a6 byte at the 0x2410 address."
   ]
  },
  {
   "cell_type": "code",
   "execution_count": 3,
   "id": "c0aaf6e4-2401-4943-a236-ce129db4ed46",
   "metadata": {},
   "outputs": [
    {
     "data": {
      "text/plain": [
       "'111111111111111122a61111'"
      ]
     },
     "execution_count": 3,
     "metadata": {},
     "output_type": "execute_result"
    }
   ],
   "source": [
    "'1'*16+'22a6'+'1'*4"
   ]
  },
  {
   "cell_type": "code",
   "execution_count": 4,
   "id": "743c0e00-c55c-42d3-bff1-7ca202813a27",
   "metadata": {},
   "outputs": [
    {
     "data": {
      "text/plain": [
       "'a6a6a6a6a6a6a6a6a6a6a6a6a6a6a6a6a6a6a6a6'"
      ]
     },
     "execution_count": 4,
     "metadata": {},
     "output_type": "execute_result"
    }
   ],
   "source": [
    "'a6'*20"
   ]
  },
  {
   "cell_type": "code",
   "execution_count": null,
   "id": "6a2e7747-444f-4c37-a428-a577c53bda6f",
   "metadata": {},
   "outputs": [],
   "source": []
  }
 ],
 "metadata": {
  "kernelspec": {
   "display_name": "Python 3 (ipykernel)",
   "language": "python",
   "name": "python3"
  },
  "language_info": {
   "codemirror_mode": {
    "name": "ipython",
    "version": 3
   },
   "file_extension": ".py",
   "mimetype": "text/x-python",
   "name": "python",
   "nbconvert_exporter": "python",
   "pygments_lexer": "ipython3",
   "version": "3.10.3"
  }
 },
 "nbformat": 4,
 "nbformat_minor": 5
}
