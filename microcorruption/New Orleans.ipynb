{
 "cells": [
  {
   "cell_type": "markdown",
   "id": "d14ac4d9-4bcb-4f2c-8756-b67891824500",
   "metadata": {},
   "source": [
    "# New Orleans"
   ]
  },
  {
   "cell_type": "markdown",
   "id": "dcddc10c-da77-4f0b-93c8-270498ad57a5",
   "metadata": {},
   "source": [
    "They have a create password function\n",
    "\n",
    "```\n",
    "447e <create_password>\n",
    "\n",
    "447e:  3f40 0024      mov\t#0x2400, r15\n",
    "\n",
    "4482:  ff40 5700 0000 mov.b\t#0x57, 0x0(r15)\n",
    "\n",
    "4488:  ff40 5900 0100 mov.b\t#0x59, 0x1(r15)\n",
    "\n",
    "448e:  ff40 4600 0200 mov.b\t#0x46, 0x2(r15)\n",
    "\n",
    "4494:  ff40 5000 0300 mov.b\t#0x50, 0x3(r15)\n",
    "\n",
    "449a:  ff40 7800 0400 mov.b\t#0x78, 0x4(r15)\n",
    "\n",
    "44a0:  ff40 6500 0500 mov.b\t#0x65, 0x5(r15)\n",
    "\n",
    "44a6:  ff40 5900 0600 mov.b\t#0x59, 0x6(r15)\n",
    "\n",
    "44ac:  cf43 0700      mov.b\t#0x0, 0x7(r15)\n",
    "\n",
    "44b0:  3041           ret\n",
    "```\n",
    "\n",
    "Just putting that in as the input solved it for me. So the answer here is 57594650786559\n"
   ]
  }
 ],
 "metadata": {
  "kernelspec": {
   "display_name": "Python 3 (ipykernel)",
   "language": "python",
   "name": "python3"
  },
  "language_info": {
   "codemirror_mode": {
    "name": "ipython",
    "version": 3
   },
   "file_extension": ".py",
   "mimetype": "text/x-python",
   "name": "python",
   "nbconvert_exporter": "python",
   "pygments_lexer": "ipython3",
   "version": "3.10.3"
  }
 },
 "nbformat": 4,
 "nbformat_minor": 5
}
