{
 "cells": [
  {
   "cell_type": "markdown",
   "id": "637bced3-6896-4e67-ad9f-43cd32752934",
   "metadata": {},
   "source": [
    "# Cusco"
   ]
  },
  {
   "cell_type": "markdown",
   "id": "fb5188aa-8055-4220-885c-e965b60a260f",
   "metadata": {},
   "source": [
    "If we look at the memory\n",
    "\n",
    "```text\n",
    "43d0: 0000 0000 0000 0000 0000 0000 5645 0100   ............VE..\n",
    "\n",
    "43e0: 5645 0300 ca45 0000 0a00 0000 3a45 4141   VE...E......:EAA\n",
    "\n",
    "43f0: 4141 4141 4141 4141 4100 0000 0000 3c44   AAAAAAAAA.....<D\n",
    "\n",
    "4400: 3140 0044 1542 5c01 75f3 35d0 085a 3f40   1@.D.B\\.u.5..Z?@\n",
    "\n",
    "4410: 0000 0f93 0724 8245 5c01 2f83 9f4f d445   .....$.E\\./..O.E\n",
    "\n",
    "4420: 0024 f923 3f40 0000 0f93 0624 8245 5c01   .$.#?@.....$.E\\.\n",
    "```\n",
    "\n",
    "At address 0x43fe, we have the return address after the login function has been completed. We can overwrite that with the input we provide in the stack. The vulnerable peice of code here is\n",
    "\n",
    "```assembly\n",
    "4528:  b012 4644      call\t#0x4446 <unlock_door>\n",
    "\n",
    "452c:  3f40 d144      mov\t#0x44d1 \"Access granted.\", r15\n",
    "\n",
    "4530:  023c           jmp\t$+0x6 <login+0x36>\n",
    "\n",
    "4532:  3f40 e144      mov\t#0x44e1 \"That password is not correct.\", r15\n",
    "\n",
    "4536:  b012 a645      call\t#0x45a6 <puts>\n",
    "\n",
    "453a:  3150 1000      add\t#0x10, sp\n",
    "```\n",
    "\n",
    "instruction at 0x453a moves the stackpointer to the address we mentioned above. So we need to overwrite it so that we can make it point to 0x4528. \n"
   ]
  },
  {
   "cell_type": "code",
   "execution_count": 1,
   "id": "c01bcbbd-18ec-46fb-94b1-181d694ab662",
   "metadata": {},
   "outputs": [
    {
     "data": {
      "text/plain": [
       "'111111111111111111111111111111112845'"
      ]
     },
     "execution_count": 1,
     "metadata": {},
     "output_type": "execute_result"
    }
   ],
   "source": [
    "'11'*0x10 + '2845'"
   ]
  },
  {
   "cell_type": "code",
   "execution_count": null,
   "id": "0fc8aea3-65bc-4197-90c4-bfc14b247d5c",
   "metadata": {},
   "outputs": [],
   "source": []
  }
 ],
 "metadata": {
  "kernelspec": {
   "display_name": "Python 3 (ipykernel)",
   "language": "python",
   "name": "python3"
  },
  "language_info": {
   "codemirror_mode": {
    "name": "ipython",
    "version": 3
   },
   "file_extension": ".py",
   "mimetype": "text/x-python",
   "name": "python",
   "nbconvert_exporter": "python",
   "pygments_lexer": "ipython3",
   "version": "3.10.3"
  }
 },
 "nbformat": 4,
 "nbformat_minor": 5
}
