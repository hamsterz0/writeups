{
 "cells": [
  {
   "cell_type": "markdown",
   "id": "74193e87-8909-4994-a613-adc22b2405d3",
   "metadata": {},
   "source": [
    "# Sydney"
   ]
  },
  {
   "cell_type": "markdown",
   "id": "c9dd7074-86fe-4f11-a061-dca9afd8272c",
   "metadata": {},
   "source": [
    "In this one too, they seem to be checking the user provided password from a hardcoded value in code. \n",
    "\n",
    "```text\n",
    "448a <check_password>\n",
    "\n",
    "448a:  bf90 6877 0000 cmp\t#0x7768, 0x0(r15)\n",
    "\n",
    "4490:  0d20           jnz\t$+0x1c <check_password+0x22>\n",
    "\n",
    "4492:  bf90 4859 0200 cmp\t#0x5948, 0x2(r15)\n",
    "\n",
    "4498:  0920           jnz\t$+0x14 <check_password+0x22>\n",
    "\n",
    "449a:  bf90 366a 0400 cmp\t#0x6a36, 0x4(r15)\n",
    "\n",
    "44a0:  0520           jnz\t$+0xc <check_password+0x22>\n",
    "\n",
    "44a2:  1e43           mov\t#0x1, r14\n",
    "\n",
    "44a4:  bf90 426f 0600 cmp\t#0x6f42, 0x6(r15)\n",
    "\n",
    "44aa:  0124           jz\t$+0x4 <check_password+0x24>\n",
    "\n",
    "44ac:  0e43           clr\tr14\n",
    "\n",
    "44ae:  0f4e           mov\tr14, r15\n",
    "\n",
    "44b0:  3041           ret\n",
    "```\n",
    "\n",
    "As the assembly follows Big Endian, we will have to rotate the values. The final input will become 68774859366a426f"
   ]
  }
 ],
 "metadata": {
  "kernelspec": {
   "display_name": "Python 3 (ipykernel)",
   "language": "python",
   "name": "python3"
  },
  "language_info": {
   "codemirror_mode": {
    "name": "ipython",
    "version": 3
   },
   "file_extension": ".py",
   "mimetype": "text/x-python",
   "name": "python",
   "nbconvert_exporter": "python",
   "pygments_lexer": "ipython3",
   "version": "3.10.3"
  }
 },
 "nbformat": 4,
 "nbformat_minor": 5
}
